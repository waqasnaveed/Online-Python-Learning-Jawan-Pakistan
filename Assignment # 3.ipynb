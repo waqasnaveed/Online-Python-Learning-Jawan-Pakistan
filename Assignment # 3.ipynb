{
 "cells": [
  {
   "cell_type": "code",
   "execution_count": 1,
   "metadata": {},
   "outputs": [
    {
     "name": "stdout",
     "output_type": "stream",
     "text": [
      "Twinkle, twinkle, little star,\n",
      "\tHow I wonder what you are!\n",
      "\t\tUp above the world so high,\n",
      "\t\tLike a diamond in the sky.\n",
      "Twinkle, twinkle, little star,\n",
      "\tHow I wonder what you are\n"
     ]
    }
   ],
   "source": [
    "#Question 1. Write a Python program to print the following string in a specific format (see the output).\n",
    "#Twinkle, twinkle, little star,\n",
    "#How I wonder what you are!\n",
    "#Up above the world so high,\n",
    "#Like a diamond in the sky.\n",
    "#Twinkle, twinkle, little star,\n",
    "#How I wonder what you are\n",
    "\n",
    "#Here \\n is used for new line \n",
    "#Here \\t is used for tab and \\t\\t for double tab\n",
    "print(\"Twinkle, twinkle, little star,\\n\\tHow I wonder what you are!\\n\\t\\tUp above the world so high,\\n\\t\\tLike a diamond in the sky.\\nTwinkle, twinkle, little star,\\n\\tHow I wonder what you are\")"
   ]
  },
  {
   "cell_type": "code",
   "execution_count": 2,
   "metadata": {},
   "outputs": [
    {
     "name": "stdout",
     "output_type": "stream",
     "text": [
      "Python version\n",
      "3.7.4 (default, Aug  9 2019, 18:34:13) [MSC v.1915 64 bit (AMD64)]\n",
      "Version info.\n",
      "sys.version_info(major=3, minor=7, micro=4, releaselevel='final', serial=0)\n"
     ]
    }
   ],
   "source": [
    "#Question 2. Write a Python program to get the Python version you are using.\n",
    "import sys \n",
    "print(\"Python version\")\n",
    "print (sys.version)\n",
    "print(\"Version info.\")\n",
    "print (sys.version_info)"
   ]
  },
  {
   "cell_type": "code",
   "execution_count": 3,
   "metadata": {},
   "outputs": [
    {
     "name": "stdout",
     "output_type": "stream",
     "text": [
      "Current date and time : \n",
      "2021-10-24 15:24:21\n"
     ]
    }
   ],
   "source": [
    "#Question 3. Write a Python program to display the current date and time.\n",
    "import datetime\n",
    "now = datetime.datetime.now()\n",
    "print (\"Current date and time : \")\n",
    "print (now.strftime(\"%Y-%m-%d %H:%M:%S\"))"
   ]
  },
  {
   "cell_type": "code",
   "execution_count": 4,
   "metadata": {},
   "outputs": [
    {
     "name": "stdout",
     "output_type": "stream",
     "text": [
      "Input the radius of the circle : 5\n",
      "The area of the circle with radius 5.0 is: 78.53981633974483\n"
     ]
    }
   ],
   "source": [
    "#Question 4. Write a Python program which accepts the radius of a circle from the user and compute the area.\n",
    "\n",
    "# Area of circle can be determined as πr2,here the Greek letter π represents a constant, approximately equal to 3.14159\n",
    "from math import pi\n",
    "r = float(input (\"Input the radius of the circle : \"))\n",
    "print (\"The area of the circle with radius \" + str(r) + \" is: \" + str(pi * r**2))"
   ]
  },
  {
   "cell_type": "code",
   "execution_count": 5,
   "metadata": {},
   "outputs": [
    {
     "name": "stdout",
     "output_type": "stream",
     "text": [
      "input your first name:Waqas\n",
      "input your last name:Naveed\n",
      "Naveed Waqas\n"
     ]
    }
   ],
   "source": [
    "#Question 5. Write a Python program which accepts the user's first and last name and print them in reverse order with a space between them.\n",
    "fname = input(\"input your first name:\")\n",
    "lname = input(\"input your last name:\")\n",
    "print(lname + \" \" + fname)"
   ]
  },
  {
   "cell_type": "code",
   "execution_count": 6,
   "metadata": {},
   "outputs": [
    {
     "name": "stdout",
     "output_type": "stream",
     "text": [
      "First Number: 5\n",
      "Second Number: 12\n",
      "17\n"
     ]
    }
   ],
   "source": [
    "#Question 6. Write a python program which takes two inputs from user and print them addition\n",
    "x = int(input('First Number: '))\n",
    "y = int(input('Second Number: '))\n",
    "print(x+y)"
   ]
  },
  {
   "cell_type": "code",
   "execution_count": 7,
   "metadata": {},
   "outputs": [
    {
     "name": "stdout",
     "output_type": "stream",
     "text": [
      "Enter marks in English: 55\n",
      "Enter marks in Urdu: 89\n",
      "Enter marks in Math: 56\n",
      "Enter marks in physics: 45\n",
      "Enter marks in biology: 68\n",
      "Grade C\n"
     ]
    }
   ],
   "source": [
    "#Question 7. Write a program which takes 5 inputs from user for different subject’s marks, total it and generate mark sheet using grades ?\n",
    "sub1 = int(input(\"Enter marks in English: \"))\n",
    "sub2 = int(input(\"Enter marks in Urdu: \"))\n",
    "sub3 = int(input(\"Enter marks in Math: \"))\n",
    "sub4 = int(input(\"Enter marks in physics: \"))\n",
    "sub5 = int(input(\"Enter marks in biology: \"))\n",
    "\n",
    "avg=(sub1+sub2+sub3+sub4+sub4)/5\n",
    "if avg >= 80 and avg <= 100:\n",
    "    print(\"Grade: A+\")\n",
    "elif avg >= 70 and avg <= 80:\n",
    "    print(\"Grade A\")\n",
    "elif avg >= 60 and avg <= 70:\n",
    "    print(\"Grade B\")\n",
    "elif avg >= 50 and avg <= 60:\n",
    "    print(\"Grade C\")\n",
    "elif avg >= 40 and avg <= 50:\n",
    "    print(\"Grade D\")\n",
    "else:\n",
    "    print(\"you are fail\")"
   ]
  },
  {
   "cell_type": "code",
   "execution_count": 8,
   "metadata": {},
   "outputs": [
    {
     "name": "stdout",
     "output_type": "stream",
     "text": [
      "Enter your number: 45\n",
      "Odd Number\n"
     ]
    }
   ],
   "source": [
    "#Question 8. Write a program which take input from user and identify that the given number is even or odd?\n",
    "x = int(input('Enter your number: '))\n",
    "if x % 2 == 0:\n",
    "    print('Even Number')\n",
    "else:\n",
    "    print('Odd Number')"
   ]
  },
  {
   "cell_type": "code",
   "execution_count": 9,
   "metadata": {},
   "outputs": [
    {
     "name": "stdout",
     "output_type": "stream",
     "text": [
      "5\n"
     ]
    }
   ],
   "source": [
    "#Question 9. Write a program which print the length of the list?\n",
    "b = [\"a\", \"b\", \"c\", \"d\", \"e\"]\n",
    "print(len(b))"
   ]
  },
  {
   "cell_type": "code",
   "execution_count": 10,
   "metadata": {},
   "outputs": [
    {
     "name": "stdout",
     "output_type": "stream",
     "text": [
      "How many numbers: 5\n",
      "Enter number 11\n",
      "Enter number 22\n",
      "Enter number 33\n",
      "Enter number 44\n",
      "Enter number 55\n",
      "Sum of elements in given list is : 165\n"
     ]
    }
   ],
   "source": [
    "#Question 10. Write a Python program to sum all the numeric items in a list?\n",
    "List = []\n",
    "num = int(input('How many numbers: '))\n",
    "for n in range(num):\n",
    "    numbers = int(input('Enter number '))\n",
    "    List.append(numbers)\n",
    "print(\"Sum of elements in given list is :\", sum(List))"
   ]
  },
  {
   "cell_type": "code",
   "execution_count": 16,
   "metadata": {},
   "outputs": [
    {
     "name": "stdout",
     "output_type": "stream",
     "text": [
      "largest number from a numeric list : 70\n"
     ]
    }
   ],
   "source": [
    "#Question 11. Write a Python program to get the largest number from a numeric list.\n",
    "list = [10, 20, 30, 40, 50, 70]\n",
    "print(\"largest number from a numeric list :\", max(list))"
   ]
  },
  {
   "cell_type": "code",
   "execution_count": 15,
   "metadata": {},
   "outputs": [
    {
     "name": "stdout",
     "output_type": "stream",
     "text": [
      "1\n",
      "1\n",
      "2\n",
      "3\n"
     ]
    }
   ],
   "source": [
    "#Question 12. Take a list, say for example this one:\n",
    "#a = [1, 1, 2, 3, 5, 8, 13, 21, 34, 55, 89]\n",
    "#Write a program that prints out all the elements of the list that are less than 5.\n",
    "a = [1, 1, 2, 3, 5, 8, 13, 21, 34, 55, 89]\n",
    "\n",
    "for i in a:\n",
    "    if i < 5:\n",
    "        print(i)"
   ]
  }
 ],
 "metadata": {
  "kernelspec": {
   "display_name": "Python 3",
   "language": "python",
   "name": "python3"
  },
  "language_info": {
   "codemirror_mode": {
    "name": "ipython",
    "version": 3
   },
   "file_extension": ".py",
   "mimetype": "text/x-python",
   "name": "python",
   "nbconvert_exporter": "python",
   "pygments_lexer": "ipython3",
   "version": "3.7.4"
  }
 },
 "nbformat": 4,
 "nbformat_minor": 2
}
